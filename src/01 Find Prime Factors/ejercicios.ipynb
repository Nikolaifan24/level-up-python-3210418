{
 "cells": [
  {
   "cell_type": "code",
   "execution_count": 2,
   "metadata": {},
   "outputs": [],
   "source": [
    "def factores(num):\n",
    "  factores = []\n",
    "  div = 2\n",
    "  while div <= num:\n",
    "    if num % div == 0:\n",
    "      factores.append(div)\n",
    "      num = num // div\n",
    "    else:\n",
    "      div +=1\n",
    "  return factores"
   ]
  }
 ],
 "metadata": {
  "kernelspec": {
   "display_name": "Python 3.9.x 64-bit (microsoft store)",
   "language": "python",
   "name": "python3"
  },
  "language_info": {
   "codemirror_mode": {
    "name": "ipython",
    "version": 3
   },
   "file_extension": ".py",
   "mimetype": "text/x-python",
   "name": "python",
   "nbconvert_exporter": "python",
   "pygments_lexer": "ipython3",
   "version": "3.9.13"
  },
  "orig_nbformat": 4,
  "vscode": {
   "interpreter": {
    "hash": "88b045f48fb98ad820f2ac8ad788bd1fb7ec708015fc3bedb14d79ee79013910"
   }
  }
 },
 "nbformat": 4,
 "nbformat_minor": 2
}
